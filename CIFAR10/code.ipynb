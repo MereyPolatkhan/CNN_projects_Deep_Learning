{
  "nbformat": 4,
  "nbformat_minor": 0,
  "metadata": {
    "colab": {
      "provenance": []
    },
    "kernelspec": {
      "name": "python3",
      "display_name": "Python 3"
    },
    "language_info": {
      "name": "python"
    },
    "gpuClass": "standard"
  },
  "cells": [
    {
      "cell_type": "markdown",
      "source": [
        "**Importing all needed libraries, I will use mostly Tensorflow**"
      ],
      "metadata": {
        "id": "wTzkOxNUlGTR"
      }
    },
    {
      "cell_type": "code",
      "execution_count": null,
      "metadata": {
        "id": "VK0ExOzfsJ3K"
      },
      "outputs": [],
      "source": [
        "import tensorflow as tf\n",
        "from tensorflow.keras.models import Sequential\n",
        "from tensorflow.keras.layers import Conv2D, MaxPool2D, Dense, Flatten, Dropout, Input, AveragePooling2D, Activation, MaxPooling2D, BatchNormalization, Concatenate\n",
        "from tensorflow.keras.callbacks import EarlyStopping, TensorBoard\n",
        "from tensorflow.keras import regularizers, optimizers\n",
        "from tensorflow.keras.preprocessing.image import ImageDataGenerator\n",
        "from tensorflow.keras.utils import to_categorical\n",
        "from tensorflow.keras.datasets import cifar10"
      ]
    },
    {
      "cell_type": "code",
      "source": [],
      "metadata": {
        "id": "Zfv8lYwHlUy9"
      },
      "execution_count": null,
      "outputs": []
    },
    {
      "cell_type": "markdown",
      "source": [
        "**Pandas for displaying graph representations of loss and accuracy **"
      ],
      "metadata": {
        "id": "GLQLTc6MlXhP"
      }
    },
    {
      "cell_type": "code",
      "source": [
        "import pandas as pd"
      ],
      "metadata": {
        "id": "ZUyXTrsEyx7Z"
      },
      "execution_count": null,
      "outputs": []
    },
    {
      "cell_type": "markdown",
      "source": [
        "getting dataset \n"
      ],
      "metadata": {
        "id": "AciAIoEGlrLP"
      }
    },
    {
      "cell_type": "code",
      "source": [
        "(x_train, y_train), (x_test, y_test) = cifar10.load_data()"
      ],
      "metadata": {
        "colab": {
          "base_uri": "https://localhost:8080/"
        },
        "id": "7jDeFGoqw0BV",
        "outputId": "0d1ae286-7c96-4ef7-d7f0-9176abad38a9"
      },
      "execution_count": null,
      "outputs": [
        {
          "output_type": "stream",
          "name": "stdout",
          "text": [
            "Downloading data from https://www.cs.toronto.edu/~kriz/cifar-10-python.tar.gz\n",
            "170498071/170498071 [==============================] - 13s 0us/step\n"
          ]
        }
      ]
    },
    {
      "cell_type": "code",
      "source": [
        "print('Shape of x_train is {}'.format(x_train.shape))\n",
        "print('Shape of x_test is {}'.format(x_test.shape)) \n",
        "print('Shape of y_train is {}'.format(y_train.shape))\n",
        "print('Shape of y_test is {}'.format(y_test.shape))"
      ],
      "metadata": {
        "colab": {
          "base_uri": "https://localhost:8080/"
        },
        "id": "mpkU2PMkw0EI",
        "outputId": "b0783228-08ce-427b-fb82-451540a744ed"
      },
      "execution_count": null,
      "outputs": [
        {
          "output_type": "stream",
          "name": "stdout",
          "text": [
            "Shape of x_train is (50000, 32, 32, 3)\n",
            "Shape of x_test is (10000, 32, 32, 3)\n",
            "Shape of y_train is (50000, 1)\n",
            "Shape of y_test is (10000, 1)\n"
          ]
        }
      ]
    },
    {
      "cell_type": "markdown",
      "source": [
        "***Normalizing the dataset, scaling 0-1***"
      ],
      "metadata": {
        "id": "mQZ4h6hqlx8t"
      }
    },
    {
      "cell_type": "code",
      "source": [
        "x_train = x_train / 255.0\n",
        "x_test = x_test / 255.0"
      ],
      "metadata": {
        "id": "RKxgqg0lw0Hu"
      },
      "execution_count": null,
      "outputs": []
    },
    {
      "cell_type": "code",
      "source": [
        "y_train = to_categorical(y_train, 10)\n",
        "y_test = to_categorical(y_test, 10)        "
      ],
      "metadata": {
        "id": "ZBmHTSASw0Md"
      },
      "execution_count": null,
      "outputs": []
    },
    {
      "cell_type": "markdown",
      "source": [
        "**base model which is made by 2 basic CNN layer (32 filters) with maxpooling.** After that passed to Flatten and Dense. Compiled using adam optimizer."
      ],
      "metadata": {
        "id": "BIWIsmktzkMe"
      }
    },
    {
      "cell_type": "code",
      "source": [
        "model = Sequential() \n",
        "\n",
        "model.add(Conv2D(filters=32, kernel_size=(4, 4), input_shape=(32, 32, 3), activation='relu'))  \n",
        "model.add(MaxPool2D(pool_size=(2, 2)))\n",
        "model.add(Conv2D(filters=32, kernel_size=(4, 4), input_shape=(32, 32, 3), activation='relu'))  \n",
        "model.add(MaxPool2D(pool_size=(2, 2)))\n",
        "\n",
        "model.add(Flatten())\n",
        "model.add(Dense(256, activation='relu'))\n",
        "model.add(Dense(10, activation='softmax'))\n",
        "model.compile(loss='categorical_crossentropy', optimizer='adam', metrics=['accuracy'])\n"
      ],
      "metadata": {
        "id": "MWSCH0Low0Pc"
      },
      "execution_count": null,
      "outputs": []
    },
    {
      "cell_type": "code",
      "source": [
        "model.summary()"
      ],
      "metadata": {
        "colab": {
          "base_uri": "https://localhost:8080/"
        },
        "id": "CFWDm2IJw0Sg",
        "outputId": "f84cce68-32a1-4026-b248-6047e94d1e5f"
      },
      "execution_count": null,
      "outputs": [
        {
          "output_type": "stream",
          "name": "stdout",
          "text": [
            "Model: \"sequential_3\"\n",
            "_________________________________________________________________\n",
            " Layer (type)                Output Shape              Param #   \n",
            "=================================================================\n",
            " conv2d_16 (Conv2D)          (None, 29, 29, 32)        1568      \n",
            "                                                                 \n",
            " max_pooling2d_8 (MaxPooling  (None, 14, 14, 32)       0         \n",
            " 2D)                                                             \n",
            "                                                                 \n",
            " conv2d_17 (Conv2D)          (None, 11, 11, 32)        16416     \n",
            "                                                                 \n",
            " max_pooling2d_9 (MaxPooling  (None, 5, 5, 32)         0         \n",
            " 2D)                                                             \n",
            "                                                                 \n",
            " flatten_3 (Flatten)         (None, 800)               0         \n",
            "                                                                 \n",
            " dense_7 (Dense)             (None, 256)               205056    \n",
            "                                                                 \n",
            " dense_8 (Dense)             (None, 10)                2570      \n",
            "                                                                 \n",
            "=================================================================\n",
            "Total params: 225,610\n",
            "Trainable params: 225,610\n",
            "Non-trainable params: 0\n",
            "_________________________________________________________________\n"
          ]
        }
      ]
    },
    {
      "cell_type": "code",
      "source": [
        "history = model.fit(x_train, y_train, epochs=50, validation_data=(x_test, y_test))"
      ],
      "metadata": {
        "colab": {
          "base_uri": "https://localhost:8080/"
        },
        "id": "KO_xucaqw0XO",
        "outputId": "204ad678-6e3f-435f-bea8-c4a4f7764370"
      },
      "execution_count": null,
      "outputs": [
        {
          "output_type": "stream",
          "name": "stdout",
          "text": [
            "Epoch 1/50\n",
            "1563/1563 [==============================] - 9s 5ms/step - loss: 1.4909 - accuracy: 0.4628 - val_loss: 1.2347 - val_accuracy: 0.5636\n",
            "Epoch 2/50\n",
            "1563/1563 [==============================] - 6s 4ms/step - loss: 1.1554 - accuracy: 0.5927 - val_loss: 1.1512 - val_accuracy: 0.6000\n",
            "Epoch 3/50\n",
            "1563/1563 [==============================] - 8s 5ms/step - loss: 1.0027 - accuracy: 0.6498 - val_loss: 1.0320 - val_accuracy: 0.6380\n",
            "Epoch 4/50\n",
            "1563/1563 [==============================] - 7s 5ms/step - loss: 0.8927 - accuracy: 0.6890 - val_loss: 0.9997 - val_accuracy: 0.6564\n",
            "Epoch 5/50\n",
            "1563/1563 [==============================] - 7s 5ms/step - loss: 0.8000 - accuracy: 0.7210 - val_loss: 0.9593 - val_accuracy: 0.6671\n",
            "Epoch 6/50\n",
            "1563/1563 [==============================] - 8s 5ms/step - loss: 0.7223 - accuracy: 0.7476 - val_loss: 0.9404 - val_accuracy: 0.6799\n",
            "Epoch 7/50\n",
            "1563/1563 [==============================] - 6s 4ms/step - loss: 0.6518 - accuracy: 0.7717 - val_loss: 0.9790 - val_accuracy: 0.6737\n",
            "Epoch 8/50\n",
            "1563/1563 [==============================] - 8s 5ms/step - loss: 0.5891 - accuracy: 0.7933 - val_loss: 0.9926 - val_accuracy: 0.6833\n",
            "Epoch 9/50\n",
            "1563/1563 [==============================] - 7s 5ms/step - loss: 0.5267 - accuracy: 0.8155 - val_loss: 1.0038 - val_accuracy: 0.6887\n",
            "Epoch 10/50\n",
            "1563/1563 [==============================] - 6s 4ms/step - loss: 0.4700 - accuracy: 0.8344 - val_loss: 1.0817 - val_accuracy: 0.6775\n",
            "Epoch 11/50\n",
            "1563/1563 [==============================] - 7s 5ms/step - loss: 0.4186 - accuracy: 0.8518 - val_loss: 1.1512 - val_accuracy: 0.6723\n",
            "Epoch 12/50\n",
            "1563/1563 [==============================] - 7s 4ms/step - loss: 0.3716 - accuracy: 0.8665 - val_loss: 1.2081 - val_accuracy: 0.6756\n",
            "Epoch 13/50\n",
            "1563/1563 [==============================] - 7s 5ms/step - loss: 0.3271 - accuracy: 0.8831 - val_loss: 1.2723 - val_accuracy: 0.6744\n",
            "Epoch 14/50\n",
            "1563/1563 [==============================] - 7s 5ms/step - loss: 0.2871 - accuracy: 0.8978 - val_loss: 1.4142 - val_accuracy: 0.6647\n",
            "Epoch 15/50\n",
            "1563/1563 [==============================] - 8s 5ms/step - loss: 0.2544 - accuracy: 0.9097 - val_loss: 1.5294 - val_accuracy: 0.6700\n",
            "Epoch 16/50\n",
            "1563/1563 [==============================] - 7s 5ms/step - loss: 0.2277 - accuracy: 0.9181 - val_loss: 1.7267 - val_accuracy: 0.6523\n",
            "Epoch 17/50\n",
            "1563/1563 [==============================] - 6s 4ms/step - loss: 0.2031 - accuracy: 0.9278 - val_loss: 1.7039 - val_accuracy: 0.6561\n",
            "Epoch 18/50\n",
            "1563/1563 [==============================] - 8s 5ms/step - loss: 0.1831 - accuracy: 0.9353 - val_loss: 1.8524 - val_accuracy: 0.6556\n",
            "Epoch 19/50\n",
            "1563/1563 [==============================] - 6s 4ms/step - loss: 0.1697 - accuracy: 0.9391 - val_loss: 1.9034 - val_accuracy: 0.6580\n",
            "Epoch 20/50\n",
            "1563/1563 [==============================] - 8s 5ms/step - loss: 0.1537 - accuracy: 0.9458 - val_loss: 2.0115 - val_accuracy: 0.6596\n",
            "Epoch 21/50\n",
            "1563/1563 [==============================] - 7s 4ms/step - loss: 0.1477 - accuracy: 0.9482 - val_loss: 2.2232 - val_accuracy: 0.6603\n",
            "Epoch 22/50\n",
            "1563/1563 [==============================] - 7s 5ms/step - loss: 0.1316 - accuracy: 0.9540 - val_loss: 2.2830 - val_accuracy: 0.6519\n",
            "Epoch 23/50\n",
            "1563/1563 [==============================] - 8s 5ms/step - loss: 0.1339 - accuracy: 0.9528 - val_loss: 2.3932 - val_accuracy: 0.6581\n",
            "Epoch 24/50\n",
            "1563/1563 [==============================] - 7s 4ms/step - loss: 0.1251 - accuracy: 0.9558 - val_loss: 2.4734 - val_accuracy: 0.6534\n",
            "Epoch 25/50\n",
            "1563/1563 [==============================] - 7s 5ms/step - loss: 0.1201 - accuracy: 0.9572 - val_loss: 2.4626 - val_accuracy: 0.6533\n",
            "Epoch 26/50\n",
            "1563/1563 [==============================] - 7s 5ms/step - loss: 0.1107 - accuracy: 0.9626 - val_loss: 2.5159 - val_accuracy: 0.6554\n",
            "Epoch 27/50\n",
            "1563/1563 [==============================] - 7s 4ms/step - loss: 0.1145 - accuracy: 0.9609 - val_loss: 2.6380 - val_accuracy: 0.6511\n",
            "Epoch 28/50\n",
            "1563/1563 [==============================] - 8s 5ms/step - loss: 0.1012 - accuracy: 0.9652 - val_loss: 2.7859 - val_accuracy: 0.6554\n",
            "Epoch 29/50\n",
            "1563/1563 [==============================] - 7s 5ms/step - loss: 0.1090 - accuracy: 0.9627 - val_loss: 2.8339 - val_accuracy: 0.6454\n",
            "Epoch 30/50\n",
            "1563/1563 [==============================] - 8s 5ms/step - loss: 0.1021 - accuracy: 0.9655 - val_loss: 2.8435 - val_accuracy: 0.6523\n",
            "Epoch 31/50\n",
            "1563/1563 [==============================] - 7s 5ms/step - loss: 0.1092 - accuracy: 0.9634 - val_loss: 3.0227 - val_accuracy: 0.6554\n",
            "Epoch 32/50\n",
            "1563/1563 [==============================] - 7s 5ms/step - loss: 0.1018 - accuracy: 0.9649 - val_loss: 3.0072 - val_accuracy: 0.6610\n",
            "Epoch 33/50\n",
            "1563/1563 [==============================] - 7s 5ms/step - loss: 0.0900 - accuracy: 0.9700 - val_loss: 3.0791 - val_accuracy: 0.6542\n",
            "Epoch 34/50\n",
            "1563/1563 [==============================] - 7s 4ms/step - loss: 0.1019 - accuracy: 0.9654 - val_loss: 3.2243 - val_accuracy: 0.6443\n",
            "Epoch 35/50\n",
            "1563/1563 [==============================] - 7s 5ms/step - loss: 0.0910 - accuracy: 0.9692 - val_loss: 3.1609 - val_accuracy: 0.6553\n",
            "Epoch 36/50\n",
            "1563/1563 [==============================] - 7s 4ms/step - loss: 0.0864 - accuracy: 0.9710 - val_loss: 3.2887 - val_accuracy: 0.6528\n",
            "Epoch 37/50\n",
            "1563/1563 [==============================] - 8s 5ms/step - loss: 0.0955 - accuracy: 0.9703 - val_loss: 3.2749 - val_accuracy: 0.6451\n",
            "Epoch 38/50\n",
            "1563/1563 [==============================] - 7s 5ms/step - loss: 0.0923 - accuracy: 0.9708 - val_loss: 3.2917 - val_accuracy: 0.6588\n",
            "Epoch 39/50\n",
            "1563/1563 [==============================] - 7s 5ms/step - loss: 0.0798 - accuracy: 0.9736 - val_loss: 3.6021 - val_accuracy: 0.6521\n",
            "Epoch 40/50\n",
            "1563/1563 [==============================] - 7s 5ms/step - loss: 0.0945 - accuracy: 0.9692 - val_loss: 3.5145 - val_accuracy: 0.6489\n",
            "Epoch 41/50\n",
            "1563/1563 [==============================] - 6s 4ms/step - loss: 0.0900 - accuracy: 0.9720 - val_loss: 3.6300 - val_accuracy: 0.6548\n",
            "Epoch 42/50\n",
            "1563/1563 [==============================] - 7s 5ms/step - loss: 0.0857 - accuracy: 0.9723 - val_loss: 3.5441 - val_accuracy: 0.6492\n",
            "Epoch 43/50\n",
            "1563/1563 [==============================] - 7s 5ms/step - loss: 0.0840 - accuracy: 0.9723 - val_loss: 3.7150 - val_accuracy: 0.6505\n",
            "Epoch 44/50\n",
            "1563/1563 [==============================] - 7s 5ms/step - loss: 0.0820 - accuracy: 0.9739 - val_loss: 3.6685 - val_accuracy: 0.6499\n",
            "Epoch 45/50\n",
            "1563/1563 [==============================] - 7s 5ms/step - loss: 0.0797 - accuracy: 0.9744 - val_loss: 3.9047 - val_accuracy: 0.6485\n",
            "Epoch 46/50\n",
            "1563/1563 [==============================] - 7s 5ms/step - loss: 0.0790 - accuracy: 0.9753 - val_loss: 3.8220 - val_accuracy: 0.6505\n",
            "Epoch 47/50\n",
            "1563/1563 [==============================] - 7s 5ms/step - loss: 0.0869 - accuracy: 0.9733 - val_loss: 4.1449 - val_accuracy: 0.6348\n",
            "Epoch 48/50\n",
            "1563/1563 [==============================] - 7s 4ms/step - loss: 0.0805 - accuracy: 0.9749 - val_loss: 3.8716 - val_accuracy: 0.6506\n",
            "Epoch 49/50\n",
            "1563/1563 [==============================] - 7s 4ms/step - loss: 0.0887 - accuracy: 0.9731 - val_loss: 4.0024 - val_accuracy: 0.6523\n",
            "Epoch 50/50\n",
            "1563/1563 [==============================] - 7s 5ms/step - loss: 0.0787 - accuracy: 0.9755 - val_loss: 4.0664 - val_accuracy: 0.6395\n"
          ]
        }
      ]
    },
    {
      "cell_type": "code",
      "source": [
        "evaluation = model.evaluate(x_test, y_test)\n",
        "print(evaluation)"
      ],
      "metadata": {
        "colab": {
          "base_uri": "https://localhost:8080/"
        },
        "id": "Rj3HRF1Vw0ZF",
        "outputId": "44ddc393-09ca-4085-e78f-767dd2f0c3a7"
      },
      "execution_count": null,
      "outputs": [
        {
          "output_type": "stream",
          "name": "stdout",
          "text": [
            "313/313 [==============================] - 1s 3ms/step - loss: 4.0664 - accuracy: 0.6395\n",
            "[4.066357612609863, 0.6395000219345093]\n"
          ]
        }
      ]
    },
    {
      "cell_type": "code",
      "source": [
        "pd.DataFrame(history.history).plot()"
      ],
      "metadata": {
        "colab": {
          "base_uri": "https://localhost:8080/",
          "height": 447
        },
        "id": "wWwmBhIJw0cs",
        "outputId": "86112407-a880-411d-8b51-b6bf0ec8c066"
      },
      "execution_count": null,
      "outputs": [
        {
          "output_type": "execute_result",
          "data": {
            "text/plain": [
              "<Axes: >"
            ]
          },
          "metadata": {},
          "execution_count": 27
        },
        {
          "output_type": "display_data",
          "data": {
            "text/plain": [
              "<Figure size 640x480 with 1 Axes>"
            ],
            "image/png": "[encoded data removed]"
          },
          "metadata": {}
        }
      ]
    },
    {
      "cell_type": "markdown",
      "source": [
        "**as we can see test accuracy (val_accuracy) is 63% and it didn't made big change within 50 iterations so we need to make better model. Validation loss increasing actively that means model is overfitting and we have to regularize model with Dropout()**"
      ],
      "metadata": {
        "id": "qFKid-jMoEh6"
      }
    },
    {
      "cell_type": "markdown",
      "source": [
        "**Adding Dropout after each maxpooling**"
      ],
      "metadata": {
        "id": "VUWXRMaXzAZV"
      }
    },
    {
      "cell_type": "code",
      "source": [
        "model2 = Sequential() \n",
        "\n",
        "model2.add(Conv2D(filters=32, kernel_size=(4, 4), input_shape=(32, 32, 3), activation='relu'))  \n",
        "model2.add(MaxPool2D(pool_size=(2, 2)))\n",
        "model2.add(Dropout(0.25))\n",
        "\n",
        "model2.add(Conv2D(filters=32, kernel_size=(4, 4), input_shape=(32, 32, 3), activation='relu'))  \n",
        "model2.add(MaxPool2D(pool_size=(2, 2)))\n",
        "model2.add(Dropout(0.25))\n",
        "\n",
        "model2.add(Flatten())\n",
        "model2.add(Dense(256, activation='relu'))\n",
        "model2.add(Dense(10, activation='softmax'))\n",
        "model2.compile(loss='categorical_crossentropy', optimizer='adam', metrics=['accuracy'])"
      ],
      "metadata": {
        "id": "RFzoGffDw0lT"
      },
      "execution_count": null,
      "outputs": []
    },
    {
      "cell_type": "code",
      "source": [
        "history2 = model2.fit(x_train, y_train, epochs=50, validation_data=(x_test, y_test))"
      ],
      "metadata": {
        "colab": {
          "base_uri": "https://localhost:8080/"
        },
        "id": "Cn4Q_wlMw0n0",
        "outputId": "c9537cb9-e7dd-4c7e-89cf-ec8c2cdef6a2"
      },
      "execution_count": null,
      "outputs": [
        {
          "output_type": "stream",
          "name": "stdout",
          "text": [
            "Epoch 1/50\n",
            "1563/1563 [==============================] - 10s 5ms/step - loss: 1.5438 - accuracy: 0.4393 - val_loss: 1.2626 - val_accuracy: 0.5514\n",
            "Epoch 2/50\n",
            "1563/1563 [==============================] - 7s 5ms/step - loss: 1.2423 - accuracy: 0.5597 - val_loss: 1.1289 - val_accuracy: 0.6067\n",
            "Epoch 3/50\n",
            "1563/1563 [==============================] - 7s 5ms/step - loss: 1.1213 - accuracy: 0.6041 - val_loss: 1.0342 - val_accuracy: 0.6329\n",
            "Epoch 4/50\n",
            "1563/1563 [==============================] - 7s 4ms/step - loss: 1.0340 - accuracy: 0.6382 - val_loss: 0.9557 - val_accuracy: 0.6744\n",
            "Epoch 5/50\n",
            "1563/1563 [==============================] - 8s 5ms/step - loss: 0.9604 - accuracy: 0.6632 - val_loss: 0.9318 - val_accuracy: 0.6764\n",
            "Epoch 6/50\n",
            "1563/1563 [==============================] - 8s 5ms/step - loss: 0.9059 - accuracy: 0.6830 - val_loss: 0.9122 - val_accuracy: 0.6785\n",
            "Epoch 7/50\n",
            "1563/1563 [==============================] - 7s 5ms/step - loss: 0.8569 - accuracy: 0.7011 - val_loss: 0.8871 - val_accuracy: 0.6916\n",
            "Epoch 8/50\n",
            "1563/1563 [==============================] - 7s 5ms/step - loss: 0.8193 - accuracy: 0.7128 - val_loss: 0.9147 - val_accuracy: 0.6861\n",
            "Epoch 9/50\n",
            "1563/1563 [==============================] - 7s 5ms/step - loss: 0.7884 - accuracy: 0.7226 - val_loss: 0.8636 - val_accuracy: 0.7007\n",
            "Epoch 10/50\n",
            "1563/1563 [==============================] - 8s 5ms/step - loss: 0.7526 - accuracy: 0.7356 - val_loss: 0.8899 - val_accuracy: 0.6938\n",
            "Epoch 11/50\n",
            "1563/1563 [==============================] - 8s 5ms/step - loss: 0.7279 - accuracy: 0.7441 - val_loss: 0.8654 - val_accuracy: 0.7059\n",
            "Epoch 12/50\n",
            "1563/1563 [==============================] - 7s 4ms/step - loss: 0.7018 - accuracy: 0.7522 - val_loss: 0.8867 - val_accuracy: 0.6992\n",
            "Epoch 13/50\n",
            "1563/1563 [==============================] - 7s 5ms/step - loss: 0.6828 - accuracy: 0.7594 - val_loss: 0.8955 - val_accuracy: 0.6965\n",
            "Epoch 14/50\n",
            "1563/1563 [==============================] - 8s 5ms/step - loss: 0.6648 - accuracy: 0.7656 - val_loss: 0.8673 - val_accuracy: 0.7084\n",
            "Epoch 15/50\n",
            "1563/1563 [==============================] - 7s 5ms/step - loss: 0.6478 - accuracy: 0.7717 - val_loss: 0.8782 - val_accuracy: 0.7102\n",
            "Epoch 16/50\n",
            "1563/1563 [==============================] - 8s 5ms/step - loss: 0.6316 - accuracy: 0.7769 - val_loss: 0.8842 - val_accuracy: 0.7057\n",
            "Epoch 17/50\n",
            "1563/1563 [==============================] - 8s 5ms/step - loss: 0.6126 - accuracy: 0.7846 - val_loss: 0.8867 - val_accuracy: 0.7095\n",
            "Epoch 18/50\n",
            "1563/1563 [==============================] - 7s 4ms/step - loss: 0.6038 - accuracy: 0.7870 - val_loss: 0.8942 - val_accuracy: 0.7081\n",
            "Epoch 19/50\n",
            "1563/1563 [==============================] - 7s 5ms/step - loss: 0.5861 - accuracy: 0.7938 - val_loss: 0.9086 - val_accuracy: 0.7007\n",
            "Epoch 20/50\n",
            "1563/1563 [==============================] - 7s 4ms/step - loss: 0.5811 - accuracy: 0.7945 - val_loss: 0.8987 - val_accuracy: 0.7077\n",
            "Epoch 21/50\n",
            "1563/1563 [==============================] - 7s 5ms/step - loss: 0.5758 - accuracy: 0.7968 - val_loss: 0.9095 - val_accuracy: 0.7041\n",
            "Epoch 22/50\n",
            "1563/1563 [==============================] - 7s 5ms/step - loss: 0.5570 - accuracy: 0.8040 - val_loss: 0.9137 - val_accuracy: 0.7023\n",
            "Epoch 23/50\n",
            "1563/1563 [==============================] - 8s 5ms/step - loss: 0.5480 - accuracy: 0.8053 - val_loss: 0.9123 - val_accuracy: 0.7078\n",
            "Epoch 24/50\n",
            "1563/1563 [==============================] - 7s 5ms/step - loss: 0.5432 - accuracy: 0.8104 - val_loss: 0.9456 - val_accuracy: 0.7059\n",
            "Epoch 25/50\n",
            "1563/1563 [==============================] - 7s 4ms/step - loss: 0.5263 - accuracy: 0.8151 - val_loss: 0.9484 - val_accuracy: 0.7066\n",
            "Epoch 26/50\n",
            "1563/1563 [==============================] - 7s 5ms/step - loss: 0.5260 - accuracy: 0.8147 - val_loss: 0.9502 - val_accuracy: 0.7034\n",
            "Epoch 27/50\n",
            "1563/1563 [==============================] - 8s 5ms/step - loss: 0.5191 - accuracy: 0.8150 - val_loss: 0.9625 - val_accuracy: 0.6993\n",
            "Epoch 28/50\n",
            "1563/1563 [==============================] - 7s 4ms/step - loss: 0.5136 - accuracy: 0.8186 - val_loss: 0.9275 - val_accuracy: 0.7086\n",
            "Epoch 29/50\n",
            "1563/1563 [==============================] - 8s 5ms/step - loss: 0.5027 - accuracy: 0.8230 - val_loss: 0.9614 - val_accuracy: 0.6951\n",
            "Epoch 30/50\n",
            "1563/1563 [==============================] - 7s 4ms/step - loss: 0.4958 - accuracy: 0.8263 - val_loss: 0.9821 - val_accuracy: 0.6996\n",
            "Epoch 31/50\n",
            "1563/1563 [==============================] - 7s 5ms/step - loss: 0.4982 - accuracy: 0.8236 - val_loss: 0.9632 - val_accuracy: 0.7082\n",
            "Epoch 32/50\n",
            "1563/1563 [==============================] - 7s 5ms/step - loss: 0.4851 - accuracy: 0.8311 - val_loss: 0.9817 - val_accuracy: 0.7017\n",
            "Epoch 33/50\n",
            "1563/1563 [==============================] - 7s 5ms/step - loss: 0.4906 - accuracy: 0.8288 - val_loss: 0.9524 - val_accuracy: 0.7051\n",
            "Epoch 34/50\n",
            "1563/1563 [==============================] - 7s 5ms/step - loss: 0.4823 - accuracy: 0.8307 - val_loss: 0.9765 - val_accuracy: 0.6985\n",
            "Epoch 35/50\n",
            "1563/1563 [==============================] - 7s 5ms/step - loss: 0.4702 - accuracy: 0.8352 - val_loss: 0.9527 - val_accuracy: 0.7101\n",
            "Epoch 36/50\n",
            "1563/1563 [==============================] - 8s 5ms/step - loss: 0.4675 - accuracy: 0.8352 - val_loss: 0.9940 - val_accuracy: 0.7040\n",
            "Epoch 37/50\n",
            "1563/1563 [==============================] - 7s 5ms/step - loss: 0.4679 - accuracy: 0.8346 - val_loss: 1.0205 - val_accuracy: 0.6943\n",
            "Epoch 38/50\n",
            "1563/1563 [==============================] - 7s 5ms/step - loss: 0.4566 - accuracy: 0.8378 - val_loss: 1.0321 - val_accuracy: 0.6949\n",
            "Epoch 39/50\n",
            "1563/1563 [==============================] - 8s 5ms/step - loss: 0.4586 - accuracy: 0.8403 - val_loss: 1.0183 - val_accuracy: 0.6962\n",
            "Epoch 40/50\n",
            "1563/1563 [==============================] - 8s 5ms/step - loss: 0.4483 - accuracy: 0.8417 - val_loss: 0.9971 - val_accuracy: 0.7050\n",
            "Epoch 41/50\n",
            "1563/1563 [==============================] - 7s 4ms/step - loss: 0.4472 - accuracy: 0.8417 - val_loss: 0.9926 - val_accuracy: 0.7069\n",
            "Epoch 42/50\n",
            "1563/1563 [==============================] - 7s 5ms/step - loss: 0.4554 - accuracy: 0.8398 - val_loss: 1.0346 - val_accuracy: 0.6962\n",
            "Epoch 43/50\n",
            "1563/1563 [==============================] - 7s 5ms/step - loss: 0.4510 - accuracy: 0.8400 - val_loss: 1.0152 - val_accuracy: 0.6996\n",
            "Epoch 44/50\n",
            "1563/1563 [==============================] - 7s 5ms/step - loss: 0.4304 - accuracy: 0.8497 - val_loss: 1.0354 - val_accuracy: 0.6963\n",
            "Epoch 45/50\n",
            "1563/1563 [==============================] - 7s 5ms/step - loss: 0.4361 - accuracy: 0.8465 - val_loss: 0.9953 - val_accuracy: 0.7091\n",
            "Epoch 46/50\n",
            "1563/1563 [==============================] - 7s 5ms/step - loss: 0.4399 - accuracy: 0.8481 - val_loss: 1.0634 - val_accuracy: 0.6949\n",
            "Epoch 47/50\n",
            "1563/1563 [==============================] - 8s 5ms/step - loss: 0.4379 - accuracy: 0.8465 - val_loss: 1.0225 - val_accuracy: 0.6997\n",
            "Epoch 48/50\n",
            "1563/1563 [==============================] - 7s 4ms/step - loss: 0.4289 - accuracy: 0.8490 - val_loss: 1.0375 - val_accuracy: 0.7041\n",
            "Epoch 49/50\n",
            "1563/1563 [==============================] - 8s 5ms/step - loss: 0.4308 - accuracy: 0.8483 - val_loss: 1.0489 - val_accuracy: 0.6960\n",
            "Epoch 50/50\n",
            "1563/1563 [==============================] - 7s 5ms/step - loss: 0.4253 - accuracy: 0.8513 - val_loss: 1.0041 - val_accuracy: 0.7114\n"
          ]
        }
      ]
    },
    {
      "cell_type": "code",
      "source": [
        "evaluation2 = model2.evaluate(x_test, y_test)\n",
        "print(evaluation2)"
      ],
      "metadata": {
        "colab": {
          "base_uri": "https://localhost:8080/"
        },
        "id": "CdTRSeWXw0q9",
        "outputId": "41d8aed2-3049-4a2d-c9e2-32fa8f5220f8"
      },
      "execution_count": null,
      "outputs": [
        {
          "output_type": "stream",
          "name": "stdout",
          "text": [
            "313/313 [==============================] - 1s 4ms/step - loss: 1.0041 - accuracy: 0.7114\n",
            "[1.0041296482086182, 0.7113999724388123]\n"
          ]
        }
      ]
    },
    {
      "cell_type": "code",
      "source": [
        "pd.DataFrame(history2.history).plot()"
      ],
      "metadata": {
        "colab": {
          "base_uri": "https://localhost:8080/",
          "height": 447
        },
        "id": "16Xlb7QEw0uH",
        "outputId": "6c409f9f-545f-4a33-ec41-c78d51714d9c"
      },
      "execution_count": null,
      "outputs": [
        {
          "output_type": "execute_result",
          "data": {
            "text/plain": [
              "<Axes: >"
            ]
          },
          "metadata": {},
          "execution_count": 31
        },
        {
          "output_type": "display_data",
          "data": {
            "text/plain": [
              "<Figure size 640x480 with 1 Axes>"
            ],
            "image/png": "[encoded data removed]"
          },
          "metadata": {}
        }
      ]
    },
    {
      "cell_type": "markdown",
      "source": [
        "So Dropout() helped us to increase until 71%"
      ],
      "metadata": {
        "id": "P-wxBKZ7qp98"
      }
    },
    {
      "cell_type": "code",
      "source": [],
      "metadata": {
        "id": "x6uF_WpbqptN"
      },
      "execution_count": null,
      "outputs": []
    },
    {
      "cell_type": "code",
      "source": [],
      "metadata": {
        "id": "-fz_TvsZw0wh"
      },
      "execution_count": null,
      "outputs": []
    },
    {
      "cell_type": "code",
      "source": [],
      "metadata": {
        "id": "Be0xJovnw0zh"
      },
      "execution_count": null,
      "outputs": []
    },
    {
      "cell_type": "markdown",
      "source": [
        "**now we are adding one more layer to each existing layers with more filters**"
      ],
      "metadata": {
        "id": "nivaH-drziOO"
      }
    },
    {
      "cell_type": "code",
      "source": [
        "model3 = Sequential()\n",
        "model3.add(Conv2D(filters=64, kernel_size=(3, 3), activation='relu', input_shape=(32, 32, 3)))\n",
        "model3.add(Conv2D(filters=64, kernel_size=(3, 3), activation='relu'))\n",
        "model3.add(MaxPool2D(2, 2))\n",
        "model3.add(Dropout(0.4))\n",
        "\n",
        "model3.add(Conv2D(filters=128, kernel_size=(3, 3), activation='relu'))\n",
        "model3.add(Conv2D(filters=128, kernel_size=(3, 3), activation='relu'))\n",
        "model3.add(MaxPool2D(2, 2))\n",
        "model3.add(Dropout(0.4))\n",
        "\n",
        "model3.add(Flatten())\n",
        "\n",
        "model3.add(Dense(units=1024, activation='relu'))\n",
        "model3.add(Dense(units=1024, activation='relu'))\n",
        "\n",
        "model3.add(Dense(units=10, activation='softmax'))\n",
        "\n",
        "model3.compile(loss='categorical_crossentropy', optimizer='adam', metrics=['accuracy'])\n",
        "\n"
      ],
      "metadata": {
        "id": "9LV4tbu7zs_K"
      },
      "execution_count": null,
      "outputs": []
    },
    {
      "cell_type": "code",
      "source": [
        "# history3 = model3.fit(x_train, y_train, epochs=25, validation_data=(x_test, y_test))\n",
        "history3 = model3.fit(x_train, y_train, epochs=50, validation_data=(x_test, y_test))\n"
      ],
      "metadata": {
        "colab": {
          "base_uri": "https://localhost:8080/"
        },
        "id": "jERESjpzzs9W",
        "outputId": "275be21a-639e-45c8-eb50-b20d8803d6e3"
      },
      "execution_count": null,
      "outputs": [
        {
          "output_type": "stream",
          "name": "stdout",
          "text": [
            "Epoch 1/50\n",
            "1563/1563 [==============================] - 17s 9ms/step - loss: 1.6072 - accuracy: 0.4031 - val_loss: 1.2911 - val_accuracy: 0.5396\n",
            "Epoch 2/50\n",
            "1563/1563 [==============================] - 13s 9ms/step - loss: 1.2214 - accuracy: 0.5599 - val_loss: 1.0648 - val_accuracy: 0.6263\n",
            "Epoch 3/50\n",
            "1563/1563 [==============================] - 13s 9ms/step - loss: 1.0569 - accuracy: 0.6238 - val_loss: 0.9852 - val_accuracy: 0.6490\n",
            "Epoch 4/50\n",
            "1563/1563 [==============================] - 13s 8ms/step - loss: 0.9490 - accuracy: 0.6658 - val_loss: 0.8335 - val_accuracy: 0.7079\n",
            "Epoch 5/50\n",
            "1563/1563 [==============================] - 13s 8ms/step - loss: 0.8628 - accuracy: 0.6958 - val_loss: 0.8375 - val_accuracy: 0.7081\n",
            "Epoch 6/50\n",
            "1563/1563 [==============================] - 13s 8ms/step - loss: 0.8050 - accuracy: 0.7125 - val_loss: 0.7611 - val_accuracy: 0.7368\n",
            "Epoch 7/50\n",
            "1563/1563 [==============================] - 13s 8ms/step - loss: 0.7555 - accuracy: 0.7327 - val_loss: 0.7526 - val_accuracy: 0.7347\n",
            "Epoch 8/50\n",
            "1563/1563 [==============================] - 14s 9ms/step - loss: 0.7151 - accuracy: 0.7474 - val_loss: 0.7713 - val_accuracy: 0.7386\n",
            "Epoch 9/50\n",
            "1563/1563 [==============================] - 13s 9ms/step - loss: 0.6749 - accuracy: 0.7605 - val_loss: 0.7923 - val_accuracy: 0.7449\n",
            "Epoch 10/50\n",
            "1563/1563 [==============================] - 13s 8ms/step - loss: 0.6491 - accuracy: 0.7709 - val_loss: 0.7207 - val_accuracy: 0.7585\n",
            "Epoch 11/50\n",
            "1563/1563 [==============================] - 13s 9ms/step - loss: 0.6121 - accuracy: 0.7841 - val_loss: 0.7644 - val_accuracy: 0.7502\n",
            "Epoch 12/50\n",
            "1563/1563 [==============================] - 13s 8ms/step - loss: 0.5861 - accuracy: 0.7921 - val_loss: 0.7111 - val_accuracy: 0.7645\n",
            "Epoch 13/50\n",
            "1563/1563 [==============================] - 13s 8ms/step - loss: 0.5577 - accuracy: 0.8007 - val_loss: 0.7280 - val_accuracy: 0.7621\n",
            "Epoch 14/50\n",
            "1563/1563 [==============================] - 13s 8ms/step - loss: 0.5318 - accuracy: 0.8124 - val_loss: 0.7185 - val_accuracy: 0.7688\n",
            "Epoch 15/50\n",
            "1563/1563 [==============================] - 13s 8ms/step - loss: 0.5175 - accuracy: 0.8171 - val_loss: 0.7268 - val_accuracy: 0.7669\n",
            "Epoch 16/50\n",
            "1563/1563 [==============================] - 13s 8ms/step - loss: 0.4954 - accuracy: 0.8246 - val_loss: 0.7685 - val_accuracy: 0.7680\n",
            "Epoch 17/50\n",
            "1563/1563 [==============================] - 13s 8ms/step - loss: 0.4783 - accuracy: 0.8308 - val_loss: 0.7752 - val_accuracy: 0.7648\n",
            "Epoch 18/50\n",
            "1563/1563 [==============================] - 13s 8ms/step - loss: 0.4586 - accuracy: 0.8380 - val_loss: 0.7855 - val_accuracy: 0.7557\n",
            "Epoch 19/50\n",
            "1563/1563 [==============================] - 13s 8ms/step - loss: 0.4516 - accuracy: 0.8426 - val_loss: 0.7519 - val_accuracy: 0.7725\n",
            "Epoch 20/50\n",
            "1563/1563 [==============================] - 13s 8ms/step - loss: 0.4327 - accuracy: 0.8489 - val_loss: 0.8126 - val_accuracy: 0.7663\n",
            "Epoch 21/50\n",
            "1563/1563 [==============================] - 13s 9ms/step - loss: 0.4206 - accuracy: 0.8507 - val_loss: 0.7717 - val_accuracy: 0.7702\n",
            "Epoch 22/50\n",
            "1563/1563 [==============================] - 13s 8ms/step - loss: 0.4064 - accuracy: 0.8578 - val_loss: 0.7848 - val_accuracy: 0.7626\n",
            "Epoch 23/50\n",
            "1563/1563 [==============================] - 13s 9ms/step - loss: 0.4008 - accuracy: 0.8613 - val_loss: 0.8720 - val_accuracy: 0.7521\n",
            "Epoch 24/50\n",
            "1563/1563 [==============================] - 13s 8ms/step - loss: 0.3840 - accuracy: 0.8671 - val_loss: 0.7975 - val_accuracy: 0.7690\n",
            "Epoch 25/50\n",
            "1563/1563 [==============================] - 13s 9ms/step - loss: 0.3784 - accuracy: 0.8687 - val_loss: 0.8271 - val_accuracy: 0.7615\n",
            "Epoch 26/50\n",
            "1563/1563 [==============================] - 13s 8ms/step - loss: 0.3656 - accuracy: 0.8737 - val_loss: 0.8449 - val_accuracy: 0.7732\n",
            "Epoch 27/50\n",
            "1563/1563 [==============================] - 13s 8ms/step - loss: 0.3595 - accuracy: 0.8756 - val_loss: 0.8474 - val_accuracy: 0.7670\n",
            "Epoch 28/50\n",
            "1563/1563 [==============================] - 13s 8ms/step - loss: 0.3561 - accuracy: 0.8783 - val_loss: 0.8479 - val_accuracy: 0.7633\n",
            "Epoch 29/50\n",
            "1563/1563 [==============================] - 13s 8ms/step - loss: 0.3514 - accuracy: 0.8795 - val_loss: 0.8636 - val_accuracy: 0.7668\n",
            "Epoch 30/50\n",
            "1563/1563 [==============================] - 13s 8ms/step - loss: 0.3421 - accuracy: 0.8842 - val_loss: 0.8365 - val_accuracy: 0.7649\n",
            "Epoch 31/50\n",
            "1563/1563 [==============================] - 13s 8ms/step - loss: 0.3325 - accuracy: 0.8861 - val_loss: 0.8483 - val_accuracy: 0.7715\n",
            "Epoch 32/50\n",
            "1563/1563 [==============================] - 13s 8ms/step - loss: 0.3305 - accuracy: 0.8879 - val_loss: 0.8318 - val_accuracy: 0.7761\n",
            "Epoch 33/50\n",
            "1563/1563 [==============================] - 13s 8ms/step - loss: 0.3167 - accuracy: 0.8918 - val_loss: 0.8932 - val_accuracy: 0.7729\n",
            "Epoch 34/50\n",
            "1563/1563 [==============================] - 13s 8ms/step - loss: 0.3168 - accuracy: 0.8929 - val_loss: 0.9607 - val_accuracy: 0.7527\n",
            "Epoch 35/50\n",
            "1563/1563 [==============================] - 13s 8ms/step - loss: 0.3135 - accuracy: 0.8952 - val_loss: 0.9088 - val_accuracy: 0.7763\n",
            "Epoch 36/50\n",
            "1563/1563 [==============================] - 13s 9ms/step - loss: 0.3063 - accuracy: 0.8974 - val_loss: 0.8938 - val_accuracy: 0.7659\n",
            "Epoch 37/50\n",
            "1563/1563 [==============================] - 13s 8ms/step - loss: 0.3089 - accuracy: 0.8978 - val_loss: 0.8937 - val_accuracy: 0.7568\n",
            "Epoch 38/50\n",
            "1563/1563 [==============================] - 13s 8ms/step - loss: 0.3023 - accuracy: 0.8984 - val_loss: 0.9075 - val_accuracy: 0.7643\n",
            "Epoch 39/50\n",
            "1563/1563 [==============================] - 13s 8ms/step - loss: 0.2977 - accuracy: 0.9012 - val_loss: 0.8743 - val_accuracy: 0.7647\n",
            "Epoch 40/50\n",
            "1563/1563 [==============================] - 13s 9ms/step - loss: 0.2874 - accuracy: 0.9051 - val_loss: 0.9293 - val_accuracy: 0.7591\n",
            "Epoch 41/50\n",
            "1563/1563 [==============================] - 13s 8ms/step - loss: 0.2857 - accuracy: 0.9047 - val_loss: 0.9256 - val_accuracy: 0.7627\n",
            "Epoch 42/50\n",
            "1563/1563 [==============================] - 13s 9ms/step - loss: 0.2842 - accuracy: 0.9055 - val_loss: 0.8942 - val_accuracy: 0.7595\n",
            "Epoch 43/50\n",
            "1563/1563 [==============================] - 13s 8ms/step - loss: 0.2807 - accuracy: 0.9064 - val_loss: 0.8992 - val_accuracy: 0.7713\n",
            "Epoch 44/50\n",
            "1563/1563 [==============================] - 13s 8ms/step - loss: 0.2807 - accuracy: 0.9075 - val_loss: 0.9250 - val_accuracy: 0.7624\n",
            "Epoch 45/50\n",
            "1563/1563 [==============================] - 13s 8ms/step - loss: 0.2728 - accuracy: 0.9109 - val_loss: 0.9308 - val_accuracy: 0.7715\n",
            "Epoch 46/50\n",
            "1563/1563 [==============================] - 13s 8ms/step - loss: 0.2717 - accuracy: 0.9111 - val_loss: 0.9135 - val_accuracy: 0.7683\n",
            "Epoch 47/50\n",
            "1563/1563 [==============================] - 13s 8ms/step - loss: 0.2649 - accuracy: 0.9142 - val_loss: 0.8845 - val_accuracy: 0.7729\n",
            "Epoch 48/50\n",
            "1563/1563 [==============================] - 13s 9ms/step - loss: 0.2648 - accuracy: 0.9137 - val_loss: 0.9396 - val_accuracy: 0.7645\n",
            "Epoch 49/50\n",
            "1563/1563 [==============================] - 13s 9ms/step - loss: 0.2636 - accuracy: 0.9134 - val_loss: 0.9622 - val_accuracy: 0.7611\n",
            "Epoch 50/50\n",
            "1563/1563 [==============================] - 13s 8ms/step - loss: 0.2561 - accuracy: 0.9187 - val_loss: 1.0137 - val_accuracy: 0.7529\n"
          ]
        }
      ]
    },
    {
      "cell_type": "code",
      "source": [
        "evaluation3 = model3.evaluate(x_test, y_test)\n",
        "print(evaluation3)"
      ],
      "metadata": {
        "colab": {
          "base_uri": "https://localhost:8080/"
        },
        "id": "2w8R3LM-zs5p",
        "outputId": "138e0fdc-72f4-4451-cbee-f11576090bb9"
      },
      "execution_count": null,
      "outputs": [
        {
          "output_type": "stream",
          "name": "stdout",
          "text": [
            "313/313 [==============================] - 1s 4ms/step - loss: 1.0137 - accuracy: 0.7529\n",
            "[1.0137403011322021, 0.7529000043869019]\n"
          ]
        }
      ]
    },
    {
      "cell_type": "code",
      "source": [
        "pd.DataFrame(history3.history).plot()"
      ],
      "metadata": {
        "colab": {
          "base_uri": "https://localhost:8080/",
          "height": 447
        },
        "id": "4MnWmPbvzs2p",
        "outputId": "da320995-2de3-471d-b32e-2832b73300fb"
      },
      "execution_count": null,
      "outputs": [
        {
          "output_type": "execute_result",
          "data": {
            "text/plain": [
              "<Axes: >"
            ]
          },
          "metadata": {},
          "execution_count": 22
        },
        {
          "output_type": "display_data",
          "data": {
            "text/plain": [
              "<Figure size 640x480 with 1 Axes>"
            ],
            "image/png": "[encoded data removed]"
          },
          "metadata": {}
        }
      ]
    },
    {
      "cell_type": "markdown",
      "source": [
        "**now we decreased significantly the val_loss and accuray become 75% which is enough better trained than 1st model**. Also Dropout(0.4) helped us to regularization better than 0.25"
      ],
      "metadata": {
        "id": "49-2zIIZr9U-"
      }
    },
    {
      "cell_type": "code",
      "source": [],
      "metadata": {
        "id": "5bMFOWufr9IO"
      },
      "execution_count": null,
      "outputs": []
    },
    {
      "cell_type": "code",
      "source": [],
      "metadata": {
        "id": "Uvlyhz4fzs0o"
      },
      "execution_count": null,
      "outputs": []
    },
    {
      "cell_type": "code",
      "source": [],
      "metadata": {
        "id": "l8Zc7xFUzsyW"
      },
      "execution_count": null,
      "outputs": []
    },
    {
      "cell_type": "markdown",
      "source": [
        "adding 1 more layer with filters *and* filters + dropouts like 0.2 0.3 0.4 0.5"
      ],
      "metadata": {
        "id": "4diVHkbf3o6G"
      }
    },
    {
      "cell_type": "code",
      "source": [
        "model4 = Sequential()\n",
        "\n",
        "\n",
        "model4.add(Conv2D(32, (3, 3), activation='relu', kernel_initializer='he_uniform', padding='same', input_shape=(32, 32, 3)))\n",
        "model4.add(Conv2D(32, (3, 3), activation='relu', kernel_initializer='he_uniform', padding='same'))\n",
        "model4.add(MaxPool2D((2, 2)))\n",
        "model4.add(Dropout(0.2))\n",
        "\n",
        "\n",
        "model4.add(Conv2D(64, (3, 3), activation='relu', kernel_initializer='he_uniform', padding='same'))\n",
        "model4.add(Conv2D(64, (3, 3), activation='relu', kernel_initializer='he_uniform', padding='same'))\n",
        "model4.add(MaxPool2D((2, 2)))\n",
        "model4.add(Dropout(0.3))\n",
        "\n",
        "\n",
        "model4.add(Conv2D(128, (3, 3), activation='relu', kernel_initializer='he_uniform', padding='same'))\n",
        "model4.add(Conv2D(128, (3, 3), activation='relu', kernel_initializer='he_uniform', padding='same'))\n",
        "model4.add(MaxPool2D((2, 2)))\n",
        "model4.add(Dropout(0.4))\n",
        "\n",
        "\n",
        "model4.add(Flatten())\n",
        "\n",
        "model4.add(Dense(128, activation='relu', kernel_initializer='he_uniform'))\n",
        "\n",
        "model4.add(Dropout(0.5))\n",
        "\n",
        "model4.add(Dense(10, activation='softmax'))\n",
        "\n",
        "model4.compile(optimizer='adam', loss='categorical_crossentropy', metrics=['accuracy'])\n",
        "\n"
      ],
      "metadata": {
        "id": "1Tc7_ihnzsvM"
      },
      "execution_count": null,
      "outputs": []
    },
    {
      "cell_type": "code",
      "source": [
        "history4 = model4.fit(x_train, y_train, epochs=50, validation_data=(x_test, y_test))\n"
      ],
      "metadata": {
        "colab": {
          "base_uri": "https://localhost:8080/"
        },
        "id": "hO_HdVdkzss9",
        "outputId": "45f4613f-9b67-48f7-a141-55e19a47aedf"
      },
      "execution_count": null,
      "outputs": [
        {
          "output_type": "stream",
          "name": "stdout",
          "text": [
            "Epoch 1/50\n",
            "1563/1563 [==============================] - 14s 7ms/step - loss: 1.7134 - accuracy: 0.3620 - val_loss: 1.2754 - val_accuracy: 0.5435\n",
            "Epoch 2/50\n",
            "1563/1563 [==============================] - 11s 7ms/step - loss: 1.2854 - accuracy: 0.5378 - val_loss: 1.0618 - val_accuracy: 0.6082\n",
            "Epoch 3/50\n",
            "1563/1563 [==============================] - 11s 7ms/step - loss: 1.1071 - accuracy: 0.6106 - val_loss: 0.9176 - val_accuracy: 0.6788\n",
            "Epoch 4/50\n",
            "1563/1563 [==============================] - 10s 7ms/step - loss: 1.0174 - accuracy: 0.6451 - val_loss: 0.8950 - val_accuracy: 0.6857\n",
            "Epoch 5/50\n",
            "1563/1563 [==============================] - 11s 7ms/step - loss: 0.9338 - accuracy: 0.6768 - val_loss: 0.8061 - val_accuracy: 0.7139\n",
            "Epoch 6/50\n",
            "1563/1563 [==============================] - 11s 7ms/step - loss: 0.8809 - accuracy: 0.6948 - val_loss: 0.7834 - val_accuracy: 0.7288\n",
            "Epoch 7/50\n",
            "1563/1563 [==============================] - 11s 7ms/step - loss: 0.8465 - accuracy: 0.7098 - val_loss: 0.7404 - val_accuracy: 0.7450\n",
            "Epoch 8/50\n",
            "1563/1563 [==============================] - 11s 7ms/step - loss: 0.8210 - accuracy: 0.7175 - val_loss: 0.7375 - val_accuracy: 0.7454\n",
            "Epoch 9/50\n",
            "1563/1563 [==============================] - 11s 7ms/step - loss: 0.7914 - accuracy: 0.7296 - val_loss: 0.7318 - val_accuracy: 0.7455\n",
            "Epoch 10/50\n",
            "1563/1563 [==============================] - 11s 7ms/step - loss: 0.7757 - accuracy: 0.7348 - val_loss: 0.6931 - val_accuracy: 0.7641\n",
            "Epoch 11/50\n",
            "1563/1563 [==============================] - 11s 7ms/step - loss: 0.7563 - accuracy: 0.7400 - val_loss: 0.6672 - val_accuracy: 0.7767\n",
            "Epoch 12/50\n",
            "1563/1563 [==============================] - 11s 7ms/step - loss: 0.7378 - accuracy: 0.7473 - val_loss: 0.6697 - val_accuracy: 0.7706\n",
            "Epoch 13/50\n",
            "1563/1563 [==============================] - 11s 7ms/step - loss: 0.7264 - accuracy: 0.7492 - val_loss: 0.7596 - val_accuracy: 0.7535\n",
            "Epoch 14/50\n",
            "1563/1563 [==============================] - 11s 7ms/step - loss: 0.7177 - accuracy: 0.7530 - val_loss: 0.6631 - val_accuracy: 0.7827\n",
            "Epoch 15/50\n",
            "1563/1563 [==============================] - 11s 7ms/step - loss: 0.7097 - accuracy: 0.7561 - val_loss: 0.6339 - val_accuracy: 0.7902\n",
            "Epoch 16/50\n",
            "1563/1563 [==============================] - 11s 7ms/step - loss: 0.7006 - accuracy: 0.7624 - val_loss: 0.6504 - val_accuracy: 0.7817\n",
            "Epoch 17/50\n",
            "1563/1563 [==============================] - 11s 7ms/step - loss: 0.6864 - accuracy: 0.7658 - val_loss: 0.6627 - val_accuracy: 0.7761\n",
            "Epoch 18/50\n",
            "1563/1563 [==============================] - 11s 7ms/step - loss: 0.6775 - accuracy: 0.7707 - val_loss: 0.6857 - val_accuracy: 0.7750\n",
            "Epoch 19/50\n",
            "1563/1563 [==============================] - 11s 7ms/step - loss: 0.6758 - accuracy: 0.7724 - val_loss: 0.6463 - val_accuracy: 0.7904\n",
            "Epoch 20/50\n",
            "1563/1563 [==============================] - 11s 7ms/step - loss: 0.6643 - accuracy: 0.7739 - val_loss: 0.6709 - val_accuracy: 0.7776\n",
            "Epoch 21/50\n",
            "1563/1563 [==============================] - 11s 7ms/step - loss: 0.6649 - accuracy: 0.7754 - val_loss: 0.6678 - val_accuracy: 0.7878\n",
            "Epoch 22/50\n",
            "1563/1563 [==============================] - 11s 7ms/step - loss: 0.6635 - accuracy: 0.7732 - val_loss: 0.6407 - val_accuracy: 0.7935\n",
            "Epoch 23/50\n",
            "1563/1563 [==============================] - 11s 7ms/step - loss: 0.6509 - accuracy: 0.7779 - val_loss: 0.6124 - val_accuracy: 0.8005\n",
            "Epoch 24/50\n",
            "1563/1563 [==============================] - 11s 7ms/step - loss: 0.6515 - accuracy: 0.7796 - val_loss: 0.7127 - val_accuracy: 0.7697\n",
            "Epoch 25/50\n",
            "1563/1563 [==============================] - 11s 7ms/step - loss: 0.6493 - accuracy: 0.7790 - val_loss: 0.7034 - val_accuracy: 0.7718\n",
            "Epoch 26/50\n",
            "1563/1563 [==============================] - 11s 7ms/step - loss: 0.6550 - accuracy: 0.7789 - val_loss: 0.6347 - val_accuracy: 0.7930\n",
            "Epoch 27/50\n",
            "1563/1563 [==============================] - 11s 7ms/step - loss: 0.6328 - accuracy: 0.7858 - val_loss: 0.6454 - val_accuracy: 0.7950\n",
            "Epoch 28/50\n",
            "1563/1563 [==============================] - 11s 7ms/step - loss: 0.6439 - accuracy: 0.7808 - val_loss: 0.6542 - val_accuracy: 0.7924\n",
            "Epoch 29/50\n",
            "1563/1563 [==============================] - 11s 7ms/step - loss: 0.6373 - accuracy: 0.7835 - val_loss: 0.6795 - val_accuracy: 0.7834\n",
            "Epoch 30/50\n",
            "1563/1563 [==============================] - 11s 7ms/step - loss: 0.6291 - accuracy: 0.7847 - val_loss: 0.6437 - val_accuracy: 0.7921\n",
            "Epoch 31/50\n",
            "1563/1563 [==============================] - 11s 7ms/step - loss: 0.6311 - accuracy: 0.7871 - val_loss: 0.6651 - val_accuracy: 0.7844\n",
            "Epoch 32/50\n",
            "1563/1563 [==============================] - 11s 7ms/step - loss: 0.6405 - accuracy: 0.7828 - val_loss: 0.6531 - val_accuracy: 0.7886\n",
            "Epoch 33/50\n",
            "1563/1563 [==============================] - 11s 7ms/step - loss: 0.6330 - accuracy: 0.7862 - val_loss: 0.6322 - val_accuracy: 0.7976\n",
            "Epoch 34/50\n",
            "1563/1563 [==============================] - 10s 7ms/step - loss: 0.6258 - accuracy: 0.7889 - val_loss: 0.6244 - val_accuracy: 0.8008\n",
            "Epoch 35/50\n",
            "1563/1563 [==============================] - 11s 7ms/step - loss: 0.6311 - accuracy: 0.7867 - val_loss: 0.6721 - val_accuracy: 0.7933\n",
            "Epoch 36/50\n",
            "1563/1563 [==============================] - 11s 7ms/step - loss: 0.6331 - accuracy: 0.7877 - val_loss: 0.6611 - val_accuracy: 0.7884\n",
            "Epoch 37/50\n",
            "1563/1563 [==============================] - 11s 7ms/step - loss: 0.6270 - accuracy: 0.7903 - val_loss: 0.6753 - val_accuracy: 0.7858\n",
            "Epoch 38/50\n",
            "1563/1563 [==============================] - 11s 7ms/step - loss: 0.6228 - accuracy: 0.7897 - val_loss: 0.6347 - val_accuracy: 0.7998\n",
            "Epoch 39/50\n",
            "1563/1563 [==============================] - 11s 7ms/step - loss: 0.6264 - accuracy: 0.7881 - val_loss: 0.6615 - val_accuracy: 0.7928\n",
            "Epoch 40/50\n",
            "1563/1563 [==============================] - 11s 7ms/step - loss: 0.6172 - accuracy: 0.7910 - val_loss: 0.6446 - val_accuracy: 0.7973\n",
            "Epoch 41/50\n",
            "1563/1563 [==============================] - 11s 7ms/step - loss: 0.6164 - accuracy: 0.7927 - val_loss: 0.6460 - val_accuracy: 0.7964\n",
            "Epoch 42/50\n",
            "1563/1563 [==============================] - 12s 7ms/step - loss: 0.6201 - accuracy: 0.7928 - val_loss: 0.6402 - val_accuracy: 0.7960\n",
            "Epoch 43/50\n",
            "1563/1563 [==============================] - 11s 7ms/step - loss: 0.6200 - accuracy: 0.7895 - val_loss: 0.6341 - val_accuracy: 0.7991\n",
            "Epoch 44/50\n",
            "1563/1563 [==============================] - 10s 7ms/step - loss: 0.6236 - accuracy: 0.7914 - val_loss: 0.6754 - val_accuracy: 0.7838\n",
            "Epoch 45/50\n",
            "1563/1563 [==============================] - 11s 7ms/step - loss: 0.6127 - accuracy: 0.7926 - val_loss: 0.6389 - val_accuracy: 0.7916\n",
            "Epoch 46/50\n",
            "1563/1563 [==============================] - 11s 7ms/step - loss: 0.6213 - accuracy: 0.7902 - val_loss: 0.6433 - val_accuracy: 0.7941\n",
            "Epoch 47/50\n",
            "1563/1563 [==============================] - 11s 7ms/step - loss: 0.6121 - accuracy: 0.7935 - val_loss: 0.6947 - val_accuracy: 0.7866\n",
            "Epoch 48/50\n",
            "1563/1563 [==============================] - 11s 7ms/step - loss: 0.6207 - accuracy: 0.7922 - val_loss: 0.6045 - val_accuracy: 0.8074\n",
            "Epoch 49/50\n",
            "1563/1563 [==============================] - 11s 7ms/step - loss: 0.6113 - accuracy: 0.7934 - val_loss: 0.6491 - val_accuracy: 0.8009\n",
            "Epoch 50/50\n",
            "1563/1563 [==============================] - 11s 7ms/step - loss: 0.6156 - accuracy: 0.7954 - val_loss: 0.6374 - val_accuracy: 0.7971\n"
          ]
        }
      ]
    },
    {
      "cell_type": "code",
      "source": [
        "evaluation4 = model4.evaluate(x_test, y_test)\n",
        "print(evaluation4)"
      ],
      "metadata": {
        "colab": {
          "base_uri": "https://localhost:8080/"
        },
        "id": "2x1iYc_B4Ic5",
        "outputId": "3dd55e6f-5234-4847-bfff-2c5ebf73473e"
      },
      "execution_count": null,
      "outputs": [
        {
          "output_type": "stream",
          "name": "stdout",
          "text": [
            "313/313 [==============================] - 1s 3ms/step - loss: 0.6374 - accuracy: 0.7971\n",
            "[0.6373924016952515, 0.7971000075340271]\n"
          ]
        }
      ]
    },
    {
      "cell_type": "code",
      "source": [
        "pd.DataFrame(history4.history).plot()\n"
      ],
      "metadata": {
        "colab": {
          "base_uri": "https://localhost:8080/",
          "height": 447
        },
        "id": "8diUBLERzsqk",
        "outputId": "46c7d20c-5bc8-42c4-862e-ee6bad148060"
      },
      "execution_count": null,
      "outputs": [
        {
          "output_type": "execute_result",
          "data": {
            "text/plain": [
              "<Axes: >"
            ]
          },
          "metadata": {},
          "execution_count": 16
        },
        {
          "output_type": "display_data",
          "data": {
            "text/plain": [
              "<Figure size 640x480 with 1 Axes>"
            ],
            "image/png": "[encoded data removed]"
          },
          "metadata": {}
        }
      ]
    },
    {
      "cell_type": "markdown",
      "source": [
        "# **that's the better model with lower loss and with high accuracy (+4%), but as i have seen from hints form cifar2_homework.ipybn i need to add normalization**"
      ],
      "metadata": {
        "id": "wqkbuzbltcMN"
      }
    },
    {
      "cell_type": "code",
      "source": [],
      "metadata": {
        "id": "1cZAmo0WzsoT"
      },
      "execution_count": null,
      "outputs": []
    },
    {
      "cell_type": "markdown",
      "source": [
        "**Adding Batch Normalization before maxpooling**\n"
      ],
      "metadata": {
        "id": "v6toKNWR5CcF"
      }
    },
    {
      "cell_type": "code",
      "source": [
        "model5 = Sequential()\n",
        "\n",
        "model5.add(Conv2D(32, (3, 3), activation='relu', kernel_initializer='he_uniform', padding='same', input_shape=(32, 32, 3)))\n",
        "model5.add(BatchNormalization())\n",
        "\n",
        "model5.add(Conv2D(32, (3, 3), activation='relu', kernel_initializer='he_uniform', padding='same'))\n",
        "model5.add(BatchNormalization())\n",
        "\n",
        "model5.add(MaxPool2D((2, 2)))\n",
        "model5.add(Dropout(0.2))\n",
        "\n",
        "model5.add(Conv2D(64, (3, 3), activation='relu', kernel_initializer='he_uniform', padding='same'))\n",
        "model5.add(BatchNormalization())\n",
        "\n",
        "model5.add(Conv2D(64, (3, 3), activation='relu', kernel_initializer='he_uniform', padding='same'))\n",
        "model5.add(BatchNormalization())\n",
        "\n",
        "model5.add(MaxPool2D((2, 2)))\n",
        "model5.add(Dropout(0.3))\n",
        "\n",
        "model5.add(Conv2D(128, (3, 3), activation='relu', kernel_initializer='he_uniform', padding='same'))\n",
        "model5.add(BatchNormalization())\n",
        "\n",
        "model5.add(Conv2D(128, (3, 3), activation='relu', kernel_initializer='he_uniform', padding='same'))\n",
        "model5.add(BatchNormalization())\n",
        "\n",
        "model5.add(MaxPool2D((2, 2)))\n",
        "model5.add(Dropout(0.4))\n",
        "\n",
        "model5.add(Flatten())\n",
        "\n",
        "model5.add(Dense(128, activation='relu', kernel_initializer='he_uniform'))\n",
        "\n",
        "model5.add(BatchNormalization())\n",
        "model5.add(Dropout(0.5))\n",
        "\n",
        "model5.add(Dense(10, activation='softmax'))"
      ],
      "metadata": {
        "id": "sWqTglaC5EgG"
      },
      "execution_count": null,
      "outputs": []
    },
    {
      "cell_type": "code",
      "source": [
        "model5.compile(optimizer='adam', loss='categorical_crossentropy', metrics=['accuracy'])"
      ],
      "metadata": {
        "id": "BUF1BnMM5Edg"
      },
      "execution_count": null,
      "outputs": []
    },
    {
      "cell_type": "code",
      "source": [
        "history5=model5.fit(x_train,y_train,epochs=50,validation_data=(x_test,y_test))"
      ],
      "metadata": {
        "colab": {
          "base_uri": "https://localhost:8080/"
        },
        "id": "XcI-Hyt85Eaj",
        "outputId": "6b6cca13-a246-4447-feba-e06661e328ea"
      },
      "execution_count": null,
      "outputs": [
        {
          "output_type": "stream",
          "name": "stdout",
          "text": [
            "Epoch 1/50\n",
            "1563/1563 [==============================] - 30s 10ms/step - loss: 1.5771 - accuracy: 0.4538 - val_loss: 1.0693 - val_accuracy: 0.6223\n",
            "Epoch 2/50\n",
            "1563/1563 [==============================] - 14s 9ms/step - loss: 1.0640 - accuracy: 0.6250 - val_loss: 0.9197 - val_accuracy: 0.6719\n",
            "Epoch 3/50\n",
            "1563/1563 [==============================] - 14s 9ms/step - loss: 0.8984 - accuracy: 0.6900 - val_loss: 0.7881 - val_accuracy: 0.7289\n",
            "Epoch 4/50\n",
            "1563/1563 [==============================] - 14s 9ms/step - loss: 0.7912 - accuracy: 0.7257 - val_loss: 0.7204 - val_accuracy: 0.7501\n",
            "Epoch 5/50\n",
            "1563/1563 [==============================] - 14s 9ms/step - loss: 0.7229 - accuracy: 0.7531 - val_loss: 0.6310 - val_accuracy: 0.7808\n",
            "Epoch 6/50\n",
            "1563/1563 [==============================] - 15s 9ms/step - loss: 0.6585 - accuracy: 0.7739 - val_loss: 0.6178 - val_accuracy: 0.7875\n",
            "Epoch 7/50\n",
            "1563/1563 [==============================] - 14s 9ms/step - loss: 0.6170 - accuracy: 0.7905 - val_loss: 0.5398 - val_accuracy: 0.8151\n",
            "Epoch 8/50\n",
            "1563/1563 [==============================] - 14s 9ms/step - loss: 0.5743 - accuracy: 0.8032 - val_loss: 0.5404 - val_accuracy: 0.8167\n",
            "Epoch 9/50\n",
            "1563/1563 [==============================] - 14s 9ms/step - loss: 0.5439 - accuracy: 0.8152 - val_loss: 0.5051 - val_accuracy: 0.8252\n",
            "Epoch 10/50\n",
            "1563/1563 [==============================] - 15s 9ms/step - loss: 0.5126 - accuracy: 0.8273 - val_loss: 0.5041 - val_accuracy: 0.8301\n",
            "Epoch 11/50\n",
            "1563/1563 [==============================] - 15s 9ms/step - loss: 0.4896 - accuracy: 0.8331 - val_loss: 0.5376 - val_accuracy: 0.8204\n",
            "Epoch 12/50\n",
            "1563/1563 [==============================] - 14s 9ms/step - loss: 0.4699 - accuracy: 0.8408 - val_loss: 0.4945 - val_accuracy: 0.8318\n",
            "Epoch 13/50\n",
            "1563/1563 [==============================] - 14s 9ms/step - loss: 0.4514 - accuracy: 0.8465 - val_loss: 0.5087 - val_accuracy: 0.8280\n",
            "Epoch 14/50\n",
            "1563/1563 [==============================] - 15s 9ms/step - loss: 0.4346 - accuracy: 0.8523 - val_loss: 0.5064 - val_accuracy: 0.8291\n",
            "Epoch 15/50\n",
            "1563/1563 [==============================] - 15s 9ms/step - loss: 0.4175 - accuracy: 0.8571 - val_loss: 0.5227 - val_accuracy: 0.8279\n",
            "Epoch 16/50\n",
            "1563/1563 [==============================] - 14s 9ms/step - loss: 0.4012 - accuracy: 0.8628 - val_loss: 0.4500 - val_accuracy: 0.8512\n",
            "Epoch 17/50\n",
            "1563/1563 [==============================] - 15s 10ms/step - loss: 0.3931 - accuracy: 0.8658 - val_loss: 0.4542 - val_accuracy: 0.8490\n",
            "Epoch 18/50\n",
            "1563/1563 [==============================] - 14s 9ms/step - loss: 0.3798 - accuracy: 0.8712 - val_loss: 0.4741 - val_accuracy: 0.8464\n",
            "Epoch 19/50\n",
            "1563/1563 [==============================] - 14s 9ms/step - loss: 0.3721 - accuracy: 0.8738 - val_loss: 0.4616 - val_accuracy: 0.8486\n",
            "Epoch 20/50\n",
            "1563/1563 [==============================] - 14s 9ms/step - loss: 0.3588 - accuracy: 0.8782 - val_loss: 0.4374 - val_accuracy: 0.8569\n",
            "Epoch 21/50\n",
            "1563/1563 [==============================] - 14s 9ms/step - loss: 0.3492 - accuracy: 0.8799 - val_loss: 0.4481 - val_accuracy: 0.8558\n",
            "Epoch 22/50\n",
            "1563/1563 [==============================] - 15s 10ms/step - loss: 0.3372 - accuracy: 0.8858 - val_loss: 0.4522 - val_accuracy: 0.8553\n",
            "Epoch 23/50\n",
            "1563/1563 [==============================] - 15s 10ms/step - loss: 0.3383 - accuracy: 0.8835 - val_loss: 0.4607 - val_accuracy: 0.8544\n",
            "Epoch 24/50\n",
            "1563/1563 [==============================] - 15s 9ms/step - loss: 0.3243 - accuracy: 0.8873 - val_loss: 0.4368 - val_accuracy: 0.8601\n",
            "Epoch 25/50\n",
            "1563/1563 [==============================] - 14s 9ms/step - loss: 0.3193 - accuracy: 0.8910 - val_loss: 0.4784 - val_accuracy: 0.8486\n",
            "Epoch 26/50\n",
            "1563/1563 [==============================] - 14s 9ms/step - loss: 0.3137 - accuracy: 0.8926 - val_loss: 0.4707 - val_accuracy: 0.8460\n",
            "Epoch 27/50\n",
            "1563/1563 [==============================] - 14s 9ms/step - loss: 0.3102 - accuracy: 0.8937 - val_loss: 0.4265 - val_accuracy: 0.8640\n",
            "Epoch 28/50\n",
            "1563/1563 [==============================] - 14s 9ms/step - loss: 0.2954 - accuracy: 0.8987 - val_loss: 0.4441 - val_accuracy: 0.8613\n",
            "Epoch 29/50\n",
            "1563/1563 [==============================] - 14s 9ms/step - loss: 0.2975 - accuracy: 0.8992 - val_loss: 0.4243 - val_accuracy: 0.8664\n",
            "Epoch 30/50\n",
            "1563/1563 [==============================] - 15s 9ms/step - loss: 0.2925 - accuracy: 0.8991 - val_loss: 0.4346 - val_accuracy: 0.8609\n",
            "Epoch 31/50\n",
            "1563/1563 [==============================] - 14s 9ms/step - loss: 0.2824 - accuracy: 0.9025 - val_loss: 0.4361 - val_accuracy: 0.8670\n",
            "Epoch 32/50\n",
            "1563/1563 [==============================] - 15s 9ms/step - loss: 0.2801 - accuracy: 0.9034 - val_loss: 0.4546 - val_accuracy: 0.8586\n",
            "Epoch 33/50\n",
            "1563/1563 [==============================] - 15s 9ms/step - loss: 0.2740 - accuracy: 0.9060 - val_loss: 0.4608 - val_accuracy: 0.8555\n",
            "Epoch 34/50\n",
            "1563/1563 [==============================] - 14s 9ms/step - loss: 0.2691 - accuracy: 0.9062 - val_loss: 0.4287 - val_accuracy: 0.8688\n",
            "Epoch 35/50\n",
            "1563/1563 [==============================] - 15s 9ms/step - loss: 0.2623 - accuracy: 0.9089 - val_loss: 0.4444 - val_accuracy: 0.8658\n",
            "Epoch 36/50\n",
            "1563/1563 [==============================] - 14s 9ms/step - loss: 0.2611 - accuracy: 0.9098 - val_loss: 0.4172 - val_accuracy: 0.8693\n",
            "Epoch 37/50\n",
            "1563/1563 [==============================] - 14s 9ms/step - loss: 0.2535 - accuracy: 0.9121 - val_loss: 0.4222 - val_accuracy: 0.8714\n",
            "Epoch 38/50\n",
            "1563/1563 [==============================] - 15s 9ms/step - loss: 0.2558 - accuracy: 0.9111 - val_loss: 0.4290 - val_accuracy: 0.8711\n",
            "Epoch 39/50\n",
            "1563/1563 [==============================] - 15s 9ms/step - loss: 0.2513 - accuracy: 0.9133 - val_loss: 0.4347 - val_accuracy: 0.8698\n",
            "Epoch 40/50\n",
            "1563/1563 [==============================] - 15s 9ms/step - loss: 0.2451 - accuracy: 0.9162 - val_loss: 0.4518 - val_accuracy: 0.8667\n",
            "Epoch 41/50\n",
            "1563/1563 [==============================] - 14s 9ms/step - loss: 0.2430 - accuracy: 0.9155 - val_loss: 0.4458 - val_accuracy: 0.8650\n",
            "Epoch 42/50\n",
            "1563/1563 [==============================] - 14s 9ms/step - loss: 0.2366 - accuracy: 0.9174 - val_loss: 0.4479 - val_accuracy: 0.8667\n",
            "Epoch 43/50\n",
            "1563/1563 [==============================] - 15s 9ms/step - loss: 0.2372 - accuracy: 0.9193 - val_loss: 0.4516 - val_accuracy: 0.8632\n",
            "Epoch 44/50\n",
            "1563/1563 [==============================] - 15s 9ms/step - loss: 0.2287 - accuracy: 0.9208 - val_loss: 0.4570 - val_accuracy: 0.8647\n",
            "Epoch 45/50\n",
            "1563/1563 [==============================] - 14s 9ms/step - loss: 0.2286 - accuracy: 0.9210 - val_loss: 0.4341 - val_accuracy: 0.8695\n",
            "Epoch 46/50\n",
            "1563/1563 [==============================] - 14s 9ms/step - loss: 0.2260 - accuracy: 0.9227 - val_loss: 0.4388 - val_accuracy: 0.8690\n",
            "Epoch 47/50\n",
            "1563/1563 [==============================] - 14s 9ms/step - loss: 0.2211 - accuracy: 0.9238 - val_loss: 0.4624 - val_accuracy: 0.8674\n",
            "Epoch 48/50\n",
            "1563/1563 [==============================] - 14s 9ms/step - loss: 0.2227 - accuracy: 0.9233 - val_loss: 0.4345 - val_accuracy: 0.8718\n",
            "Epoch 49/50\n",
            "1563/1563 [==============================] - 15s 9ms/step - loss: 0.2240 - accuracy: 0.9226 - val_loss: 0.4389 - val_accuracy: 0.8728\n",
            "Epoch 50/50\n",
            "1563/1563 [==============================] - 15s 9ms/step - loss: 0.2179 - accuracy: 0.9235 - val_loss: 0.4436 - val_accuracy: 0.8706\n"
          ]
        }
      ]
    },
    {
      "cell_type": "code",
      "source": [
        "evaluation5 = model5.evaluate(x_test, y_test)\n",
        "print(evaluation5)"
      ],
      "metadata": {
        "colab": {
          "base_uri": "https://localhost:8080/"
        },
        "id": "uBLw3flW5ETZ",
        "outputId": "9e18f454-14d0-4413-ec72-12da35bc0a73"
      },
      "execution_count": null,
      "outputs": [
        {
          "output_type": "stream",
          "name": "stdout",
          "text": [
            "313/313 [==============================] - 1s 4ms/step - loss: 0.4436 - accuracy: 0.8706\n",
            "[0.4436120092868805, 0.8705999851226807]\n"
          ]
        }
      ]
    },
    {
      "cell_type": "code",
      "source": [
        "pd.DataFrame(history5.history).plot()"
      ],
      "metadata": {
        "colab": {
          "base_uri": "https://localhost:8080/",
          "height": 447
        },
        "id": "myfWGP6y5EXO",
        "outputId": "29a4cd95-1a36-4056-ab23-775457e9ee5d"
      },
      "execution_count": null,
      "outputs": [
        {
          "output_type": "execute_result",
          "data": {
            "text/plain": [
              "<Axes: >"
            ]
          },
          "metadata": {},
          "execution_count": 12
        },
        {
          "output_type": "display_data",
          "data": {
            "text/plain": [
              "<Figure size 640x480 with 1 Axes>"
            ],
            "image/png": "[encoded data removed]"
          },
          "metadata": {}
        }
      ]
    },
    {
      "cell_type": "markdown",
      "source": [
        "now we got 87% accuracy."
      ],
      "metadata": {
        "id": "kg9R6PI1utD1"
      }
    },
    {
      "cell_type": "markdown",
      "source": [
        "**what did i learn from that training, that Dropout and BatchNormalization made huge affect to model in architecture ** But couldnt include/understand augmentation. Finally we have 80+ accuracy\n"
      ],
      "metadata": {
        "id": "p-eK_qDDuvjp"
      }
    },
    {
      "cell_type": "code",
      "source": [],
      "metadata": {
        "id": "O8yVD54h5EQc"
      },
      "execution_count": null,
      "outputs": []
    },
    {
      "cell_type": "code",
      "source": [],
      "metadata": {
        "id": "5_uRib3W5ENl"
      },
      "execution_count": null,
      "outputs": []
    },
    {
      "cell_type": "code",
      "source": [],
      "metadata": {
        "id": "pyphKsxd5EKu"
      },
      "execution_count": null,
      "outputs": []
    },
    {
      "cell_type": "code",
      "source": [],
      "metadata": {
        "id": "NSdqteYt5EIE"
      },
      "execution_count": null,
      "outputs": []
    },
    {
      "cell_type": "code",
      "source": [],
      "metadata": {
        "id": "ybFkpE3d5ECe"
      },
      "execution_count": null,
      "outputs": []
    }
  ]
}